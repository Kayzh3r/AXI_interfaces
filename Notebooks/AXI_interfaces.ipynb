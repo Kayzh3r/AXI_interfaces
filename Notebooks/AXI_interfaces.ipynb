{
 "cells": [
  {
   "cell_type": "code",
   "execution_count": 1,
   "metadata": {},
   "outputs": [
    {
     "data": {
      "application/javascript": [
       "\n",
       "try {\n",
       "require(['notebook/js/codecell'], function(codecell) {\n",
       "  codecell.CodeCell.options_default.highlight_modes[\n",
       "      'magic_text/x-csrc'] = {'reg':[/^%%microblaze/]};\n",
       "  Jupyter.notebook.events.one('kernel_ready.Kernel', function(){\n",
       "      Jupyter.notebook.get_cells().map(function(cell){\n",
       "          if (cell.cell_type == 'code'){ cell.auto_highlight(); } }) ;\n",
       "  });\n",
       "});\n",
       "} catch (e) {};\n"
      ]
     },
     "metadata": {},
     "output_type": "display_data"
    }
   ],
   "source": [
    "import os, warnings\n",
    "import numpy as np\n",
    "from pynq import allocate\n",
    "from pynq import Overlay, PL, MMIO\n",
    "from pynq import DefaultIP, DefaultHierarchy\n",
    "from pynq import Xlnk\n",
    "from pynq.xlnk import ContiguousArray\n",
    "from pynq.lib import DMA\n",
    "from cffi import FFI\n",
    "\n",
    "from FilterBank import FilterBankDriver, StreamFilterDriver\n",
    "from MultiplierHLS import MultiplierHLSDriver, StreamMultiplierHLSDriver\n",
    "from Multiplier import MultiplierDriver, StreamMultiplierDriver\n",
    "from MultiplierFP import MultiplierFPDriver, StreamMultiplierFPDriver\n",
    "from MultiplierAXILite import MultiAXILiteDriver\n",
    "from PDFPlotter import PDF"
   ]
  },
  {
   "cell_type": "code",
   "execution_count": 2,
   "metadata": {},
   "outputs": [
    {
     "name": "stderr",
     "output_type": "stream",
     "text": [
      "/usr/lib/python3/dist-packages/ipykernel_launcher.py:3: UserWarning: There is no overlay loaded after boot.\n",
      "  This is separate from the ipykernel package so we can avoid doing imports until\n"
     ]
    }
   ],
   "source": [
    "# Checking default overlay\n",
    "if not os.path.exists(PL.bitfile_name):\n",
    "    warnings.warn('There is no overlay loaded after boot.', UserWarning)\n",
    "else:\n",
    "    ol = Overlay(PL.bitfile_name)"
   ]
  },
  {
   "cell_type": "markdown",
   "metadata": {},
   "source": [
    "# Loading overlay and showing info"
   ]
  },
  {
   "cell_type": "code",
   "execution_count": 3,
   "metadata": {},
   "outputs": [
    {
     "data": {
      "text/html": [
       "<iframe src=./images/top_level.pdf width=1200 height=400></iframe>"
      ],
      "text/latex": [
       "\\includegraphics[width=1.0\\textwidth]{./images/top_level.pdf}"
      ],
      "text/plain": [
       "<PDFPlotter.PDF at 0x7f849ac940>"
      ]
     },
     "execution_count": 3,
     "metadata": {},
     "output_type": "execute_result"
    }
   ],
   "source": [
    "PDF('./images/top_level.pdf',size=(1200,400))"
   ]
  },
  {
   "cell_type": "code",
   "execution_count": 4,
   "metadata": {},
   "outputs": [
    {
     "name": "stdout",
     "output_type": "stream",
     "text": [
      "PL bit file path /home/xilinx/jupyter_notebooks/AXI_interfaces/design_1.bit\n",
      "PL timestamp 2020/6/26 12:18:54 +307053\n",
      "Overlay is loaded\n"
     ]
    },
    {
     "data": {
      "text/plain": [
       "\u001b[0;31mType:\u001b[0m            Overlay\n",
       "\u001b[0;31mString form:\u001b[0m     <pynq.overlay.Overlay object at 0x7f849acc18>\n",
       "\u001b[0;31mFile:\u001b[0m            /usr/local/lib/python3.6/dist-packages/pynq/overlay.py\n",
       "\u001b[0;31mDocstring:\u001b[0m      \n",
       "Default documentation for overlay /home/xilinx/jupyter_notebooks/AXI_interfaces/design_1.bit. The following\n",
       "attributes are available on this overlay:\n",
       "\n",
       "IP Blocks\n",
       "----------\n",
       "filter_bank/filter_bank : FilterBank.FilterBankDriver\n",
       "filter_bank/dma_filter_bank : pynq.lib.dma.DMA\n",
       "multiplier_stream/multiplier : Multiplier.MultiplierDriver\n",
       "multiplier_stream/dma_multiplier : pynq.lib.dma.DMA\n",
       "mult_lite            : MultiplierAXILite.MultiAXILiteDriver\n",
       "multiplier_fix_stream/multiplier_fix : MultiplierFP.MultiplierFPDriver\n",
       "multiplier_fix_stream/dma_multiplier_fix : pynq.lib.dma.DMA\n",
       "multiplier_hls_stream/multiplier_hls : MultiplierHLS.MultiplierHLSDriver\n",
       "multiplier_hls_stream/dma_multiplier_hls : pynq.lib.dma.DMA\n",
       "\n",
       "Hierarchies\n",
       "-----------\n",
       "filter_bank          : FilterBank.StreamFilterDriver\n",
       "multiplier_hls_stream : MultiplierHLS.StreamMultiplierHLSDriver\n",
       "multiplier_fix_stream : MultiplierFP.StreamMultiplierFPDriver\n",
       "multiplier_stream    : Multiplier.StreamMultiplierDriver\n",
       "\n",
       "Interrupts\n",
       "----------\n",
       "None\n",
       "\n",
       "GPIO Outputs\n",
       "------------\n",
       "None\n",
       "\n",
       "Memories\n",
       "------------\n",
       "zynq_ultra_ps_e_0    : Memory\n",
       "\u001b[0;31mClass docstring:\u001b[0m\n",
       "This class keeps track of a single bitstream's state and contents.\n",
       "\n",
       "The overlay class holds the state of the bitstream and enables run-time\n",
       "protection of bindings.\n",
       "\n",
       "Our definition of overlay is: \"post-bitstream configurable design\".\n",
       "Hence, this class must expose configurability through content discovery\n",
       "and runtime protection.\n",
       "\n",
       "The overlay class exposes the IP and hierarchies as attributes in the\n",
       "overlay. If no other drivers are available the `DefaultIP` is constructed\n",
       "for IP cores at top level and `DefaultHierarchy` for any hierarchies that\n",
       "contain addressable IP. Custom drivers can be bound to IP and hierarchies\n",
       "by subclassing `DefaultIP` and `DefaultHierarchy`. See the help entries\n",
       "for those class for more details.\n",
       "\n",
       "This class stores four dictionaries: IP, GPIO, interrupt controller\n",
       "and interrupt pin dictionaries.\n",
       "\n",
       "Each entry of the IP dictionary is a mapping:\n",
       "'name' -> {phys_addr, addr_range, type, config, state}, where\n",
       "name (str) is the key of the entry.\n",
       "phys_addr (int) is the physical address of the IP.\n",
       "addr_range (int) is the address range of the IP.\n",
       "type (str) is the type of the IP.\n",
       "config (dict) is a dictionary of the configuration parameters.\n",
       "state (str) is the state information about the IP.\n",
       "\n",
       "Each entry of the GPIO dictionary is a mapping:\n",
       "'name' -> {pin, state}, where\n",
       "name (str) is the key of the entry.\n",
       "pin (int) is the user index of the GPIO, starting from 0.\n",
       "state (str) is the state information about the GPIO.\n",
       "\n",
       "Each entry in the interrupt controller dictionary is a mapping:\n",
       "'name' -> {parent, index}, where\n",
       "name (str) is the name of the interrupt controller.\n",
       "parent (str) is the name of the parent controller or '' if attached\n",
       "directly to the PS.\n",
       "index (int) is the index of the interrupt attached to.\n",
       "\n",
       "Each entry in the interrupt pin dictionary is a mapping:\n",
       "'name' -> {controller, index}, where\n",
       "name (str) is the name of the pin.\n",
       "controller (str) is the name of the interrupt controller.\n",
       "index (int) is the line index.\n",
       "\n",
       "Attributes\n",
       "----------\n",
       "bitfile_name : str\n",
       "    The absolute path of the bitstream.\n",
       "dtbo : str\n",
       "    The absolute path of the dtbo file for the full bitstream.\n",
       "ip_dict : dict\n",
       "    All the addressable IPs from PS. Key is the name of the IP; value is\n",
       "    a dictionary mapping the physical address, address range, IP type,\n",
       "    parameters, registers, and the state associated with that IP:\n",
       "    {str: {'phys_addr' : int, 'addr_range' : int,                'type' : str, 'parameters' : dict, 'registers': dict,                'state' : str}}.\n",
       "gpio_dict : dict\n",
       "    All the GPIO pins controlled by PS. Key is the name of the GPIO pin;\n",
       "    value is a dictionary mapping user index (starting from 0),\n",
       "    and the state associated with that GPIO pin:\n",
       "    {str: {'index' : int, 'state' : str}}.\n",
       "interrupt_controllers : dict\n",
       "    All AXI interrupt controllers in the system attached to\n",
       "    a PS interrupt line. Key is the name of the controller;\n",
       "    value is a dictionary mapping parent interrupt controller and the\n",
       "    line index of this interrupt:\n",
       "    {str: {'parent': str, 'index' : int}}.\n",
       "    The PS is the root of the hierarchy and is unnamed.\n",
       "interrupt_pins : dict\n",
       "    All pins in the design attached to an interrupt controller.\n",
       "    Key is the name of the pin; value is a dictionary\n",
       "    mapping the interrupt controller and the line index used:\n",
       "    {str: {'controller' : str, 'index' : int}}.\n",
       "pr_dict : dict\n",
       "    Dictionary mapping from the name of the partial-reconfigurable\n",
       "    hierarchical blocks to the loaded partial bitstreams:\n",
       "    {str: {'loaded': str, 'dtbo': str}}.\n",
       "device : pynq.Device\n",
       "    The device that the overlay is loaded on\n",
       "\u001b[0;31mInit docstring:\u001b[0m \n",
       "Return a new Overlay object.\n",
       "\n",
       "An overlay instantiates a bitstream object as a member initially.\n",
       "\n",
       "Parameters\n",
       "----------\n",
       "bitfile_name : str\n",
       "    The bitstream name or absolute path as a string.\n",
       "dtbo : str\n",
       "    The dtbo file name or absolute path as a string.\n",
       "download : bool\n",
       "    Whether the overlay should be downloaded.\n",
       "ignore_version : bool\n",
       "    Indicate whether or not to ignore the driver versions.\n",
       "device : pynq.Device\n",
       "    Device on which to load the Overlay. Defaults to\n",
       "    pynq.Device.active_device\n",
       "\n",
       "Note\n",
       "----\n",
       "This class requires a Vivado TCL file to be next to bitstream file\n",
       "with same name (e.g. `base.bit` and `base.tcl`).\n"
      ]
     },
     "metadata": {},
     "output_type": "display_data"
    }
   ],
   "source": [
    "PROJECT_FOLDER_PATH = os.path.dirname(os.path.realpath('__file__'))\n",
    "OVERLAY_NAME = 'design_1.bit'\n",
    "overlay = Overlay(os.path.join(PROJECT_FOLDER_PATH, OVERLAY_NAME))\n",
    "# Checking if overlay is well loaded\n",
    "print('PL bit file path %s' % PL.bitfile_name)\n",
    "print('PL timestamp %s' % PL.timestamp)\n",
    "if overlay.is_loaded():\n",
    "    print('Overlay is loaded')\n",
    "    overlay?\n",
    "else:\n",
    "    print('Overlay does not loaded')"
   ]
  },
  {
   "cell_type": "markdown",
   "metadata": {},
   "source": [
    "# Testing AXI Lite multiplier"
   ]
  },
  {
   "cell_type": "code",
   "execution_count": 5,
   "metadata": {},
   "outputs": [
    {
     "name": "stdout",
     "output_type": "stream",
     "text": [
      "AXI Lite A value 10\n",
      "AXI Lite B value 2\n",
      "AXI Lite Result value 20\n",
      "Lets multiply 735 by 85700\n",
      "Obtained result is 62989500\n"
     ]
    }
   ],
   "source": [
    "print('AXI Lite A value %d\\nAXI Lite B value %d\\nAXI Lite Result value %d' % (overlay.mult_lite.a, overlay.mult_lite.b, overlay.mult_lite.result))\n",
    "a = 735\n",
    "b = 85700\n",
    "print('Lets multiply %d by %d' % (a,b))\n",
    "overlay.mult_lite.a = a\n",
    "overlay.mult_lite.b = b\n",
    "print('Obtained result is %d' % overlay.mult_lite.result)"
   ]
  },
  {
   "cell_type": "markdown",
   "metadata": {},
   "source": [
    "# Testing AXI Stream HLS multiplier\n",
    "This hierarchy consists in DMA IP from the Xilinx IP catalog and Multiplier IP from HLS. Following image shows the IP Integrator schema"
   ]
  },
  {
   "cell_type": "code",
   "execution_count": 6,
   "metadata": {},
   "outputs": [
    {
     "data": {
      "text/html": [
       "<iframe src=./images/multiplier_hls_stream.pdf width=900 height=300></iframe>"
      ],
      "text/latex": [
       "\\includegraphics[width=1.0\\textwidth]{./images/multiplier_hls_stream.pdf}"
      ],
      "text/plain": [
       "<PDFPlotter.PDF at 0x7f6daab320>"
      ]
     },
     "execution_count": 6,
     "metadata": {},
     "output_type": "execute_result"
    }
   ],
   "source": [
    "PDF('./images/multiplier_hls_stream.pdf',size=(900,300))"
   ]
  },
  {
   "cell_type": "markdown",
   "metadata": {},
   "source": [
    "Following HLS code for **multiplier_hls** IP is shown:\n",
    "```c\n",
    "#include <stdlib.h>\n",
    "#include <stdio.h>\n",
    "#include <ap_int.h>\n",
    "#include <ap_fixed.h>\n",
    "#include <ap_axi_sdata.h>\n",
    "\n",
    "typedef ap_axis<32,1,1,1> stream_type;\n",
    "\n",
    "void multiplier_HLS(stream_type* in_data, stream_type* out_data, ap_int<32> constant)\n",
    "{\n",
    "#pragma HLS INTERFACE s_axilite register port=constant\n",
    "#pragma HLS INTERFACE ap_ctrl_none port=return\n",
    "#pragma HLS INTERFACE axis port=in_data\n",
    "#pragma HLS INTERFACE axis port=out_data\n",
    "    out_data->data = in_data->data * constant;\n",
    "    out_data->dest = in_data->dest;\n",
    "    out_data->id = in_data->id;\n",
    "    out_data->keep = in_data->keep;\n",
    "    out_data->last = in_data->last;\n",
    "    out_data->strb = in_data->strb;\n",
    "    out_data->user = in_data->user;\n",
    "}\n",
    "```\n",
    "And also, following image shows the DMA IP configuration:\n",
    "\n",
    "\n",
    "<img src=\"./images/dma_multiplier_hls.PNG\" width=\"800\" height=\"650\"/>"
   ]
  },
  {
   "cell_type": "code",
   "execution_count": 7,
   "metadata": {},
   "outputs": [],
   "source": [
    "dma_mult_hls = overlay.multiplier_hls_stream.dma_multiplier_hls\n",
    "mult_hls = overlay.multiplier_hls_stream.multiplier_hls"
   ]
  },
  {
   "cell_type": "code",
   "execution_count": 8,
   "metadata": {},
   "outputs": [],
   "source": [
    "xlnk = Xlnk()\n",
    "length = 1024 # this is the maximum size for transfer buffer\n",
    "in_buffer = xlnk.cma_array(shape=(length,), dtype=np.uint32, cacheable=1)\n",
    "out_buffer = xlnk.cma_array(shape=(length,), dtype=np.uint32, cacheable=1)\n",
    "for i in range(length):\n",
    "    in_buffer[i] = i\n",
    "mult_hls.constant = 100"
   ]
  },
  {
   "cell_type": "code",
   "execution_count": 9,
   "metadata": {},
   "outputs": [],
   "source": [
    "dma_mult_hls.sendchannel.transfer(in_buffer)\n",
    "dma_mult_hls.sendchannel.wait()"
   ]
  },
  {
   "cell_type": "code",
   "execution_count": 10,
   "metadata": {},
   "outputs": [
    {
     "name": "stdout",
     "output_type": "stream",
     "text": [
      "[     0    100    200 ... 102100 102200 102300]\n"
     ]
    }
   ],
   "source": [
    "dma_mult_hls.recvchannel.transfer(out_buffer)\n",
    "dma_mult_hls.recvchannel.wait()\n",
    "\n",
    "print(out_buffer)\n",
    "xlnk.xlnk_reset()"
   ]
  },
  {
   "cell_type": "code",
   "execution_count": 11,
   "metadata": {},
   "outputs": [
    {
     "name": "stdout",
     "output_type": "stream",
     "text": [
      "[   0    6   12   18   24   30   36   42   48   54   60   66   72   78\n",
      "   84   90   96  102  108  114  120  126  132  138  144  150  156  162\n",
      "  168  174  180  186  192  198  204  210  216  222  228  234  240  246\n",
      "  252  258  264  270  276  282  288  294  300  306  312  318  324  330\n",
      "  336  342  348  354  360  366  372  378  384  390  396  402  408  414\n",
      "  420  426  432  438  444  450  456  462  468  474  480  486  492  498\n",
      "  504  510  516  522  528  534  540  546  552  558  564  570  576  582\n",
      "  588  594  600  606  612  618  624  630  636  642  648  654  660  666\n",
      "  672  678  684  690  696  702  708  714  720  726  732  738  744  750\n",
      "  756  762  768  774  780  786  792  798  804  810  816  822  828  834\n",
      "  840  846  852  858  864  870  876  882  888  894  900  906  912  918\n",
      "  924  930  936  942  948  954  960  966  972  978  984  990  996 1002\n",
      " 1008 1014 1020 1026 1032 1038 1044 1050 1056 1062 1068 1074 1080 1086\n",
      " 1092 1098 1104 1110 1116 1122 1128 1134 1140 1146 1152 1158 1164 1170\n",
      " 1176 1182 1188 1194 1200 1206 1212 1218 1224 1230 1236 1242 1248 1254\n",
      " 1260 1266 1272 1278 1284 1290 1296 1302 1308 1314 1320 1326 1332 1338\n",
      " 1344 1350 1356 1362 1368 1374 1380 1386 1392 1398 1404 1410 1416 1422\n",
      " 1428 1434 1440 1446 1452 1458 1464 1470 1476 1482 1488 1494 1500 1506\n",
      " 1512 1518 1524 1530 1536 1542 1548 1554 1560 1566 1572 1578 1584 1590\n",
      " 1596 1602 1608 1614 1620 1626 1632 1638 1644 1650 1656 1662 1668 1674\n",
      " 1680 1686 1692 1698 1704 1710 1716 1722 1728 1734 1740 1746 1752 1758\n",
      " 1764 1770 1776 1782 1788 1794 1800 1806 1812 1818 1824 1830 1836 1842\n",
      " 1848 1854 1860 1866 1872 1878 1884 1890 1896 1902 1908 1914 1920 1926\n",
      " 1932 1938 1944 1950 1956 1962 1968 1974 1980 1986 1992 1998 2004 2010\n",
      " 2016 2022 2028 2034 2040 2046 2052 2058 2064 2070 2076 2082 2088 2094\n",
      " 2100 2106 2112 2118 2124 2130 2136 2142 2148 2154 2160 2166 2172 2178\n",
      " 2184 2190 2196 2202 2208 2214 2220 2226 2232 2238 2244 2250 2256 2262\n",
      " 2268 2274 2280 2286 2292 2298 2304 2310 2316 2322 2328 2334 2340 2346\n",
      " 2352 2358 2364 2370 2376 2382 2388 2394 2400 2406 2412 2418 2424 2430\n",
      " 2436 2442 2448 2454 2460 2466 2472 2478 2484 2490 2496 2502 2508 2514\n",
      " 2520 2526 2532 2538 2544 2550 2556 2562 2568 2574 2580 2586 2592 2598\n",
      " 2604 2610 2616 2622 2628 2634 2640 2646 2652 2658 2664 2670 2676 2682\n",
      " 2688 2694 2700 2706 2712 2718 2724 2730 2736 2742 2748 2754 2760 2766\n",
      " 2772 2778 2784 2790 2796 2802 2808 2814 2820 2826 2832 2838 2844 2850\n",
      " 2856 2862 2868 2874 2880 2886 2892 2898 2904 2910 2916 2922 2928 2934\n",
      " 2940 2946 2952 2958 2964 2970 2976 2982 2988 2994 3000 3006 3012 3018\n",
      " 3024 3030 3036 3042 3048 3054 3060 3066]\n"
     ]
    }
   ],
   "source": [
    "length = 512\n",
    "in_buffer = xlnk.cma_array(shape=(length,), dtype=np.uint32)\n",
    "for i, v, in enumerate(np.arange(length)):\n",
    "    in_buffer[i] = 2*v\n",
    "\n",
    "out_buffer = xlnk.cma_array(shape=(length,), dtype=np.uint32)\n",
    "overlay.multiplier_hls_stream.stream_multiply(in_buffer, out_buffer, 3)\n",
    "print(out_buffer)\n",
    "xlnk.xlnk_reset()"
   ]
  },
  {
   "cell_type": "markdown",
   "metadata": {},
   "source": [
    "# Testing AXI Stream multiplier\n",
    "This hierarchy consists in DMA IP from the Xilinx IP catalog and Multiplier IP from System Generator. Following image shows the IP Integrator schema"
   ]
  },
  {
   "cell_type": "code",
   "execution_count": 12,
   "metadata": {},
   "outputs": [
    {
     "data": {
      "text/html": [
       "<iframe src=./images/multiplier_stream.pdf width=900 height=300></iframe>"
      ],
      "text/latex": [
       "\\includegraphics[width=1.0\\textwidth]{./images/multiplier_stream.pdf}"
      ],
      "text/plain": [
       "<PDFPlotter.PDF at 0x7f6e8e99e8>"
      ]
     },
     "execution_count": 12,
     "metadata": {},
     "output_type": "execute_result"
    }
   ],
   "source": [
    "PDF('./images/multiplier_stream.pdf',size=(900,300))"
   ]
  },
  {
   "cell_type": "markdown",
   "metadata": {},
   "source": [
    "The IP multiplier is generated with the Systen Generator as follows:\n",
    "\n",
    "<img src=\"./images/multiplier_sysgen.PNG\" width=\"1200\" height=\"700\"/>\n",
    "\n",
    "And also, following image shows the DMA IP configuration:\n",
    "\n",
    "<img src=\"./images/dma_multiplier.PNG\" width=\"800\" height=\"650\"/>"
   ]
  },
  {
   "cell_type": "code",
   "execution_count": 13,
   "metadata": {},
   "outputs": [
    {
     "name": "stdout",
     "output_type": "stream",
     "text": [
      "[  0  50 100 150]\n"
     ]
    }
   ],
   "source": [
    "xlnk = Xlnk()\n",
    "length = 4\n",
    "#stream = [0,20.5,3,50]\n",
    "in_buffer = xlnk.cma_array(shape=(length,), dtype=np.uint32, cacheable=1)\n",
    "for i, v, in enumerate(np.arange(length)):\n",
    "    in_buffer[i] = v\n",
    "\n",
    "out_buffer = xlnk.cma_array(shape=(length,), dtype=np.uint32, cacheable=1)\n",
    "overlay.multiplier_stream.stream_multiply(in_buffer, out_buffer, 50)\n",
    "print(out_buffer)\n",
    "xlnk.xlnk_reset()"
   ]
  },
  {
   "cell_type": "markdown",
   "metadata": {},
   "source": [
    "#### Testing\n",
    "Limit is 64"
   ]
  },
  {
   "cell_type": "code",
   "execution_count": 14,
   "metadata": {},
   "outputs": [],
   "source": [
    "length = 5\n",
    "in_buffer = xlnk.cma_array(shape=(length,), dtype=np.uint32, cacheable=1)\n",
    "out_buffer = xlnk.cma_array(shape=(length,), dtype=np.uint32, cacheable=1)\n",
    "for i in range(length):\n",
    "    in_buffer[i] = i"
   ]
  },
  {
   "cell_type": "code",
   "execution_count": null,
   "metadata": {},
   "outputs": [],
   "source": [
    "overlay.multiplier_stream.dma_multiplier.sendchannel.transfer(in_buffer)\n",
    "overlay.multiplier_stream.dma_multiplier.sendchannel.wait()"
   ]
  },
  {
   "cell_type": "code",
   "execution_count": null,
   "metadata": {},
   "outputs": [],
   "source": [
    "overlay.multiplier_stream.dma_multiplier.recvchannel.transfer(out_buffer)\n",
    "overlay.multiplier_stream.dma_multiplier.recvchannel.wait()\n",
    "print(out_buffer)\n",
    "xlnk.xlnk_reset()"
   ]
  },
  {
   "cell_type": "markdown",
   "metadata": {},
   "source": [
    "# Testing AXI Stream fixed point multiplier"
   ]
  },
  {
   "cell_type": "code",
   "execution_count": 15,
   "metadata": {},
   "outputs": [],
   "source": [
    "xlnk = Xlnk()\n",
    "\n",
    "stream = [0,20.5,3,50]\n",
    "in_buffer = xlnk.cma_array(shape=(len(stream),), dtype=np.uint16)\n",
    "for i, v, in enumerate(stream):\n",
    "    in_buffer[i] = v\n",
    "\n",
    "out_buffer = xlnk.cma_array(shape=(len(stream),), dtype=np.uint32)\n",
    "overlay.multiplier_fix_stream.stream_multiply(in_buffer, out_buffer, 30)"
   ]
  },
  {
   "cell_type": "code",
   "execution_count": 16,
   "metadata": {},
   "outputs": [
    {
     "name": "stdout",
     "output_type": "stream",
     "text": [
      "\tdtype\t\t=\tfxp-s16/14\n",
      "\tValue\t\t=\t0.75\n",
      "\n",
      "\tSigned\t\t=\tTrue\n",
      "\tWord bits\t=\t16\n",
      "\tFract bits\t=\t14\n",
      "\tInt bits\t=\t1\n",
      "\tVal data type\t=\tfloat64\n",
      "\n",
      "\tUpper\t\t=\t1.99993896484375\n",
      "\tLower\t\t=\t-2.0\n",
      "\tPrecision\t=\t6.103515625e-05\n",
      "\tOverflow\t=\tsaturate\n",
      "\tRounding\t=\ttrunc\n",
      "\tShifting\t=\texpand\n",
      "\n"
     ]
    }
   ],
   "source": [
    "from fxpmath import Fxp\n",
    "x = Fxp(0.75, signed=True, n_word=16, n_frac=14)\n",
    "x.info(verbose=3)"
   ]
  },
  {
   "cell_type": "code",
   "execution_count": 17,
   "metadata": {},
   "outputs": [
    {
     "name": "stdout",
     "output_type": "stream",
     "text": [
      "Fixed point value x stored in memory: 12288\n",
      "Fixed point value x in binary: 00.11000000000000\n"
     ]
    },
    {
     "data": {
      "text/plain": [
       "PynqBuffer([245760,    400,     60,   1000], dtype=uint32)"
      ]
     },
     "execution_count": 17,
     "metadata": {},
     "output_type": "execute_result"
    }
   ],
   "source": [
    "print('Fixed point value x stored in memory: %d' % x.val)\n",
    "print('Fixed point value x in binary: %s' % x.bin(frac_dot=True))\n",
    "in_buffer[0] = x.val\n",
    "overlay.multiplier_fix_stream.stream_multiply(in_buffer, out_buffer, 5)\n",
    "out_buffer"
   ]
  },
  {
   "cell_type": "code",
   "execution_count": 18,
   "metadata": {},
   "outputs": [
    {
     "name": "stdout",
     "output_type": "stream",
     "text": [
      "Result in binary 111100000000000000\n"
     ]
    }
   ],
   "source": [
    "print('Result in binary %s'%\"{0:b}\".format(out_buffer[0]))"
   ]
  },
  {
   "cell_type": "code",
   "execution_count": 19,
   "metadata": {},
   "outputs": [
    {
     "name": "stdout",
     "output_type": "stream",
     "text": [
      "\tdtype\t\t=\tfxp-u32/16\n",
      "\tValue\t\t=\t3.75\n",
      "\n",
      "\tSigned\t\t=\tFalse\n",
      "\tWord bits\t=\t32\n",
      "\tFract bits\t=\t16\n",
      "\tInt bits\t=\t16\n",
      "\tVal data type\t=\tfloat64\n",
      "\n",
      "\tUpper\t\t=\t65535.99998474121\n",
      "\tLower\t\t=\t0.0\n",
      "\tPrecision\t=\t1.52587890625e-05\n",
      "\tOverflow\t=\tsaturate\n",
      "\tRounding\t=\ttrunc\n",
      "\tShifting\t=\texpand\n",
      "\n"
     ]
    }
   ],
   "source": [
    "result = Fxp(0.0, signed=False, n_word=32, n_frac=16)\n",
    "result('0b'+'{0:b}'.format(out_buffer[0])).info(verbose=3)\n",
    "xlnk.xlnk_reset()"
   ]
  },
  {
   "cell_type": "markdown",
   "metadata": {},
   "source": [
    "# Testing AXI Stream fixed point filter bank\n",
    "## Creating input signal in fixed point 16_14"
   ]
  },
  {
   "cell_type": "code",
   "execution_count": 20,
   "metadata": {},
   "outputs": [],
   "source": [
    "from h5py import File\n",
    "import os\n",
    "\n",
    "filename = 'signal_fxp.h5'\n",
    "save = False\n",
    "overwrite = True\n",
    "\n",
    "if overwrite | (not os.path.exists(filename)):\n",
    "    # Signal parameters\n",
    "    n_samples = 4\n",
    "    sampling_rate = 100e6\n",
    "    t_ini = 0\n",
    "    t_end = n_samples/sampling_rate\n",
    "    #t_end = 0.00000125\n",
    "    sampling_rate = sampling_rate\n",
    "    f1  = 20e6;\n",
    "    f2  = 40e6;\n",
    "    # Time vector generation\n",
    "    time = np.arange(t_ini,t_end,1/sampling_rate)\n",
    "    # Signals generation\n",
    "    amp = 1;\n",
    "    signal_float64 = amp*(np.sin(2*np.pi*f1*time) + np.sin(2*np.pi*f2*time))\n",
    "    # Converting signal to fixed point data\n",
    "    signal_fxp = Fxp(signal_float64, signed=True, n_word=16, n_frac=14)\n",
    "    \n",
    "    if save:\n",
    "        with File(filename, 'w') as f:\n",
    "            main_group = f.create_group(np.string_('SIGNAL_FXP_16_14'))\n",
    "            main_group.attrs.create(np.string_('SIGNAL@SAMPLE_RATE'), np.int32(sampling_rate))\n",
    "            main_group.attrs.create(np.string_('FIXED_POINT@SIGNED'), np.bool(True))\n",
    "            main_group.attrs.create(np.string_('FIXED_POINT@N_BITS'), np.uint8(16))\n",
    "            main_group.attrs.create(np.string_('FIXED_POINT@DECIMAL'), np.uint8(14))\n",
    "            main_group.create_dataset('TIME', data=time, dtype=np.float64)\n",
    "            main_group.create_dataset('SIGNAL_FXP', data=signal_fxp.val, dtype=np.int16)\n",
    "            main_group.create_dataset('SIGNAL_FLOAT64', data=signal_float64, dtype=np.float64)\n",
    "else:\n",
    "    pass"
   ]
  },
  {
   "cell_type": "code",
   "execution_count": 21,
   "metadata": {},
   "outputs": [
    {
     "data": {
      "text/plain": [
       "array([ 0.        ,  1.53881836, -0.36322021,  0.36322021])"
      ]
     },
     "execution_count": 21,
     "metadata": {},
     "output_type": "execute_result"
    }
   ],
   "source": [
    "signal_fxp[:30]"
   ]
  },
  {
   "cell_type": "code",
   "execution_count": 22,
   "metadata": {},
   "outputs": [
    {
     "data": {
      "text/plain": [
       "<matplotlib.figure.Figure at 0x7f76507630>"
      ]
     },
     "metadata": {},
     "output_type": "display_data"
    }
   ],
   "source": [
    "import matplotlib.pyplot as plt\n",
    "\n",
    "n_samples_to_plot = 30\n",
    "plt.plot(time[:n_samples_to_plot],signal_fxp[:n_samples_to_plot])\n",
    "plt.plot(time[:n_samples_to_plot],signal_float64[:n_samples_to_plot])\n",
    "plt.legend(['Fixed point 16_14','Float64'])\n",
    "plt.show()"
   ]
  },
  {
   "cell_type": "code",
   "execution_count": 23,
   "metadata": {},
   "outputs": [],
   "source": [
    "in_signal = xlnk.cma_array(shape=(len(signal_float64),), dtype=np.uint16)\n",
    "for idx, value, in enumerate(signal_fxp.val):\n",
    "    in_signal[idx] = value"
   ]
  },
  {
   "cell_type": "code",
   "execution_count": 24,
   "metadata": {},
   "outputs": [],
   "source": [
    "out_signal = xlnk.cma_array(shape=(len(signal_float64),), dtype=np.uint32)\n",
    "#overlay.filter_bank.stream_filter(in_buffer, out_buffer, 0)\n",
    "overlay.filter_bank.stream_filter(in_signal, out_signal, 2)"
   ]
  },
  {
   "cell_type": "code",
   "execution_count": 25,
   "metadata": {},
   "outputs": [],
   "source": [
    "output_key0 = Fxp(np.zeros(len(signal_float64)), signed=False, n_word=32, n_frac=28)"
   ]
  },
  {
   "cell_type": "code",
   "execution_count": 26,
   "metadata": {},
   "outputs": [],
   "source": [
    "for idx, value in enumerate(out_signal):\n",
    "    output_key0.val[idx] = value"
   ]
  },
  {
   "cell_type": "code",
   "execution_count": 27,
   "metadata": {},
   "outputs": [
    {
     "data": {
      "image/png": "[encoded data removed]",
      "text/plain": [
       "<matplotlib.figure.Figure at 0x7f7652c518>"
      ]
     },
     "metadata": {},
     "output_type": "display_data"
    }
   ],
   "source": [
    "n_samples_to_plot = 60\n",
    "plt.plot(time[:n_samples_to_plot],signal_fxp[:n_samples_to_plot])\n",
    "plt.plot(time[:n_samples_to_plot],output_key0[:n_samples_to_plot])\n",
    "plt.legend(['Input Fixed point 16_14','Output Fixed point 32_16'])\n",
    "plt.show()"
   ]
  },
  {
   "cell_type": "code",
   "execution_count": 28,
   "metadata": {},
   "outputs": [
    {
     "data": {
      "text/plain": [
       "array([    0, 25212, 59585,  5951], dtype=uint64)"
      ]
     },
     "execution_count": 28,
     "metadata": {},
     "output_type": "execute_result"
    }
   ],
   "source": [
    "output_key0.val"
   ]
  },
  {
   "cell_type": "code",
   "execution_count": 29,
   "metadata": {},
   "outputs": [
    {
     "data": {
      "text/plain": [
       "PynqBuffer([    0, 25212, 59585,  5951], dtype=uint32)"
      ]
     },
     "execution_count": 29,
     "metadata": {},
     "output_type": "execute_result"
    }
   ],
   "source": [
    "out_signal"
   ]
  },
  {
   "cell_type": "code",
   "execution_count": 58,
   "metadata": {},
   "outputs": [
    {
     "data": {
      "text/plain": [
       "PynqBuffer([    0, 25212, 59585], dtype=uint16)"
      ]
     },
     "execution_count": 58,
     "metadata": {},
     "output_type": "execute_result"
    }
   ],
   "source": [
    "in_signal"
   ]
  }
 ],
 "metadata": {
  "kernelspec": {
   "display_name": "Python 3",
   "language": "python",
   "name": "python3"
  },
  "language_info": {
   "codemirror_mode": {
    "name": "ipython",
    "version": 3
   },
   "file_extension": ".py",
   "mimetype": "text/x-python",
   "name": "python",
   "nbconvert_exporter": "python",
   "pygments_lexer": "ipython3",
   "version": "3.6.5"
  }
 },
 "nbformat": 4,
 "nbformat_minor": 4
}
